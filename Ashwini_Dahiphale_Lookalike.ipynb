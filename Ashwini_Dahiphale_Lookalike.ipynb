{
 "cells": [
  {
   "cell_type": "code",
   "execution_count": 1,
   "id": "c90656b4-a376-469c-9a46-3c138d1bb3fc",
   "metadata": {},
   "outputs": [],
   "source": [
    "import pandas as pd\n",
    "import numpy as np \n",
    "import matplotlib.pyplot as plt\n",
    "import seaborn as sns\n",
    "import random\n",
    "from datetime import datetime"
   ]
  },
  {
   "cell_type": "code",
   "execution_count": 2,
   "id": "c4166ed9-f8ff-4628-83fa-075a2d4bf401",
   "metadata": {},
   "outputs": [
    {
     "name": "stdout",
     "output_type": "stream",
     "text": [
      "<class 'pandas.core.frame.DataFrame'>\n",
      "RangeIndex: 1000 entries, 0 to 999\n",
      "Data columns (total 13 columns):\n",
      " #   Column           Non-Null Count  Dtype  \n",
      "---  ------           --------------  -----  \n",
      " 0   TransactionID    1000 non-null   object \n",
      " 1   CustomerID       1000 non-null   object \n",
      " 2   ProductID        1000 non-null   object \n",
      " 3   TransactionDate  1000 non-null   object \n",
      " 4   Quantity         1000 non-null   int64  \n",
      " 5   TotalValue       1000 non-null   float64\n",
      " 6   Price_x          1000 non-null   float64\n",
      " 7   CustomerName     1000 non-null   object \n",
      " 8   Region           1000 non-null   object \n",
      " 9   SignupDate       1000 non-null   object \n",
      " 10  ProductName      1000 non-null   object \n",
      " 11  Category         1000 non-null   object \n",
      " 12  Price_y          1000 non-null   float64\n",
      "dtypes: float64(3), int64(1), object(9)\n",
      "memory usage: 101.7+ KB\n"
     ]
    }
   ],
   "source": [
    "df = pd.read_csv('Merged_Dataset.csv')\n",
    "\n",
    "df.info()"
   ]
  },
  {
   "cell_type": "code",
   "execution_count": 3,
   "id": "18c118ab-a269-41a8-962a-c4736cb6a027",
   "metadata": {},
   "outputs": [],
   "source": [
    "df.drop(columns=['Price_x'], inplace=True)\n",
    "df.rename(columns={'Price_y': 'Price'}, inplace=True)\n"
   ]
  },
  {
   "cell_type": "code",
   "execution_count": 4,
   "id": "5f6e7384-40f3-47af-af58-5adef99fd798",
   "metadata": {},
   "outputs": [
    {
     "data": {
      "text/plain": [
       "Index(['TransactionID', 'CustomerID', 'ProductID', 'TransactionDate',\n",
       "       'Quantity', 'TotalValue', 'CustomerName', 'Region', 'SignupDate',\n",
       "       'ProductName', 'Category', 'Price'],\n",
       "      dtype='object')"
      ]
     },
     "execution_count": 4,
     "metadata": {},
     "output_type": "execute_result"
    }
   ],
   "source": [
    "df.columns"
   ]
  },
  {
   "cell_type": "code",
   "execution_count": 5,
   "id": "f022eecd-ab98-48eb-8872-b35337a2aaa8",
   "metadata": {},
   "outputs": [],
   "source": [
    "df['TransactionDate'] = pd.to_datetime(df['TransactionDate'])\n",
    "df['SignupDate'] = pd.to_datetime(df['SignupDate'])\n"
   ]
  },
  {
   "cell_type": "code",
   "execution_count": 6,
   "id": "05087600-7a3f-4f25-9603-fb5b39066057",
   "metadata": {},
   "outputs": [],
   "source": [
    "from sklearn.preprocessing import StandardScaler\n",
    "from sklearn.metrics.pairwise import cosine_similarity"
   ]
  },
  {
   "cell_type": "code",
   "execution_count": 7,
   "id": "c22d90a7-4a45-43de-9b5e-9bc2dd272f90",
   "metadata": {},
   "outputs": [],
   "source": [
    "selected_columns = ['CustomerID', 'Category', 'ProductName', 'Quantity']\n",
    "df_selected = df[selected_columns]"
   ]
  },
  {
   "cell_type": "code",
   "execution_count": 8,
   "id": "9bf58759-c28d-414c-9470-b2845d2481d5",
   "metadata": {},
   "outputs": [],
   "source": [
    "# Convert categorical features to numerical using one-hot encoding\n",
    "df_encoded = pd.get_dummies(df_selected, columns=['Category', 'ProductName'])"
   ]
  },
  {
   "cell_type": "code",
   "execution_count": 9,
   "id": "1980014f-69b1-4e31-94e4-f6b82b414099",
   "metadata": {},
   "outputs": [],
   "source": [
    "# Aggregate data by customer (sum quantities for each category and product)\n",
    "df_grouped = df_encoded.groupby('CustomerID').sum().reset_index()"
   ]
  },
  {
   "cell_type": "code",
   "execution_count": 10,
   "id": "68d07b7c-8e9c-45ea-b49a-4c1a3131a7f4",
   "metadata": {},
   "outputs": [],
   "source": [
    "# Standardize the data using StandardScaler\n",
    "scaler = StandardScaler()\n",
    "scaled_features = scaler.fit_transform(df_grouped.drop(columns=['CustomerID']))\n"
   ]
  },
  {
   "cell_type": "code",
   "execution_count": 11,
   "id": "f060bfa2-c55a-4bd8-ad88-695cd59185ba",
   "metadata": {},
   "outputs": [],
   "source": [
    "# Convert scaled features back to DataFrame\n",
    "scaled_df = pd.DataFrame(scaled_features, columns=df_grouped.columns[1:])\n",
    "scaled_df.insert(0, 'CustomerID', df_grouped['CustomerID'])"
   ]
  },
  {
   "cell_type": "code",
   "execution_count": 12,
   "id": "e334c6a6-08ae-4bee-99ce-f4c9e5dca924",
   "metadata": {},
   "outputs": [],
   "source": [
    "# Compute cosine similarity\n",
    "customer_product_matrix = scaled_df.set_index('CustomerID')\n",
    "similarity_matrix = cosine_similarity(customer_product_matrix)"
   ]
  },
  {
   "cell_type": "code",
   "execution_count": 13,
   "id": "4a30b09f-2b45-4171-bf8f-07211b63e5c7",
   "metadata": {},
   "outputs": [],
   "source": [
    "# Convert similarity matrix to DataFrame\n",
    "similarity_df = pd.DataFrame(similarity_matrix, \n",
    "                             index=customer_product_matrix.index, \n",
    "                             columns=customer_product_matrix.index)"
   ]
  },
  {
   "cell_type": "code",
   "execution_count": 14,
   "id": "3673aa37-d47d-49df-a1f5-c653c3eff4c4",
   "metadata": {},
   "outputs": [],
   "source": [
    "def get_top_3_similar(customers, similarity_df):\n",
    "    lookalike_dict = {}\n",
    "    for cust in customers:\n",
    "        similar_customers = similarity_df[cust].drop(cust).sort_values(ascending=False).head(3)\n",
    "        rounded_similar_customers = [(cust_id, round(score, 2)) for cust_id, score in similar_customers.items()]\n",
    "        lookalike_dict[cust] = rounded_similar_customers\n",
    "    return lookalike_dict"
   ]
  },
  {
   "cell_type": "code",
   "execution_count": 15,
   "id": "73bcb5b9-1d97-4236-b811-89f816f03e00",
   "metadata": {},
   "outputs": [],
   "source": [
    "first_20_customers = sorted(df_grouped['CustomerID'].unique())[:20]\n",
    "top_3_lookalikes = get_top_3_similar(first_20_customers, similarity_df)"
   ]
  },
  {
   "cell_type": "code",
   "execution_count": 16,
   "id": "80340b5c-5ea3-41f1-b305-62a530c20d42",
   "metadata": {},
   "outputs": [
    {
     "name": "stdout",
     "output_type": "stream",
     "text": [
      "Lookalike12.csv file has been created successfully with top 3 recommendations.\n",
      "  CustomerID                                    Recommendations\n",
      "0      C0001  [{'C0140': 0.57}, {'C0050': 0.48}, {'C0097': 0...\n",
      "1      C0002  [{'C0030': 0.55}, {'C0008': 0.38}, {'C0109': 0...\n",
      "2      C0003  [{'C0144': 0.58}, {'C0164': 0.52}, {'C0134': 0...\n",
      "3      C0004  [{'C0065': 0.5}, {'C0182': 0.35}, {'C0133': 0.3}]\n",
      "4      C0005  [{'C0096': 0.46}, {'C0119': 0.45}, {'C0107': 0...\n",
      "5      C0006  [{'C0171': 0.44}, {'C0197': 0.3}, {'C0139': 0.3}]\n",
      "6      C0007  [{'C0020': 0.55}, {'C0031': 0.52}, {'C0181': 0...\n",
      "7      C0008  [{'C0164': 0.4}, {'C0002': 0.38}, {'C0091': 0....\n",
      "8      C0009  [{'C0062': 0.56}, {'C0083': 0.42}, {'C0056': 0...\n",
      "9      C0010  [{'C0092': 0.55}, {'C0077': 0.46}, {'C0083': 0...\n"
     ]
    }
   ],
   "source": [
    "lookalike_records = []\n",
    "for cust_id, recs in top_3_lookalikes.items():\n",
    "    lookalike_records.append([cust_id, str([{rec[0]: rec[1]} for rec in recs])])\n",
    "\n",
    "lookalike_df = pd.DataFrame(lookalike_records, columns=['CustomerID', 'Recommendations'])\n",
    "lookalike_df.to_csv('Lookalike12.csv', index=False)\n",
    "\n",
    "print(\"Lookalike12.csv file has been created successfully with top 3 recommendations.\")\n",
    "\n",
    "# Display sample results\n",
    "print(lookalike_df.head(10))\n"
   ]
  },
  {
   "cell_type": "code",
   "execution_count": null,
   "id": "c511a322-d44a-486a-928c-06b53aa57a26",
   "metadata": {},
   "outputs": [],
   "source": []
  },
  {
   "cell_type": "code",
   "execution_count": null,
   "id": "aaed387a-6f49-462a-9eeb-483a9f1a4f76",
   "metadata": {},
   "outputs": [],
   "source": []
  },
  {
   "cell_type": "code",
   "execution_count": 17,
   "id": "8c96f33d-68eb-4d07-a3f3-19abc8dfceef",
   "metadata": {},
   "outputs": [
    {
     "name": "stdout",
     "output_type": "stream",
     "text": [
      "Lookalike.csv file has been created successfully with top 3 recommendations.\n",
      "  CustomerID                                    Recommendations\n",
      "0      C0001  [{'C0140': 0.53}, {'C0050': 0.44}, {'C0190': 0...\n",
      "1      C0002  [{'C0030': 0.53}, {'C0008': 0.35}, {'C0109': 0...\n",
      "2      C0003  [{'C0144': 0.55}, {'C0164': 0.47}, {'C0134': 0...\n",
      "3      C0004  [{'C0065': 0.44}, {'C0133': 0.33}, {'C0082': 0...\n",
      "4      C0005  [{'C0096': 0.43}, {'C0119': 0.42}, {'C0107': 0...\n",
      "5      C0006  [{'C0171': 0.46}, {'C0197': 0.28}, {'C0178': 0...\n",
      "6      C0007  [{'C0020': 0.54}, {'C0031': 0.48}, {'C0117': 0...\n",
      "7      C0008  [{'C0164': 0.36}, {'C0091': 0.35}, {'C0002': 0...\n",
      "8      C0009  [{'C0062': 0.58}, {'C0083': 0.4}, {'C0056': 0....\n",
      "9      C0010  [{'C0092': 0.52}, {'C0077': 0.43}, {'C0083': 0...\n"
     ]
    }
   ],
   "source": [
    "import pandas as pd\n",
    "from sklearn.preprocessing import StandardScaler\n",
    "from sklearn.metrics.pairwise import cosine_similarity\n",
    "\n",
    "# Load the dataset\n",
    "df = pd.read_csv('Merged_Dataset.csv')\n",
    "\n",
    "# Select relevant columns for analysis\n",
    "selected_columns = ['CustomerID', 'Category', 'ProductName', 'Quantity', 'Region']\n",
    "df_selected = df[selected_columns]\n",
    "\n",
    "# Convert categorical features to numerical using one-hot encoding\n",
    "df_encoded = pd.get_dummies(df_selected, columns=['Category', 'ProductName', 'Region'])\n",
    "\n",
    "# Aggregate data by customer (sum quantities for each category, product, and region)\n",
    "df_grouped = df_encoded.groupby('CustomerID').sum().reset_index()\n",
    "\n",
    "# Standardize the data using StandardScaler\n",
    "scaler = StandardScaler()\n",
    "scaled_features = scaler.fit_transform(df_grouped.drop(columns=['CustomerID']))\n",
    "\n",
    "# Convert scaled features back to DataFrame\n",
    "scaled_df = pd.DataFrame(scaled_features, columns=df_grouped.columns[1:])\n",
    "scaled_df.insert(0, 'CustomerID', df_grouped['CustomerID'])\n",
    "\n",
    "# Compute cosine similarity\n",
    "customer_product_matrix = scaled_df.set_index('CustomerID')\n",
    "similarity_matrix = cosine_similarity(customer_product_matrix)\n",
    "\n",
    "# Convert similarity matrix to DataFrame\n",
    "similarity_df = pd.DataFrame(similarity_matrix, \n",
    "                             index=customer_product_matrix.index, \n",
    "                             columns=customer_product_matrix.index)\n",
    "\n",
    "# Function to get top 3 similar customers for given CustomerIDs\n",
    "def get_top_3_similar(customers, similarity_df):\n",
    "    lookalike_dict = {}\n",
    "    for cust in customers:\n",
    "        similar_customers = similarity_df[cust].drop(cust).sort_values(ascending=False).head(3)\n",
    "        rounded_similar_customers = [(cust_id, round(score, 2)) for cust_id, score in similar_customers.items()]\n",
    "        lookalike_dict[cust] = rounded_similar_customers\n",
    "    return lookalike_dict\n",
    "\n",
    "# Get top 3 similar customers for the first 20 customers\n",
    "first_20_customers = sorted(df_grouped['CustomerID'].unique())[:20]\n",
    "top_3_lookalikes = get_top_3_similar(first_20_customers, similarity_df)\n",
    "\n",
    "# Save recommendations to Lookalike.csv\n",
    "lookalike_records = []\n",
    "for cust_id, recs in top_3_lookalikes.items():\n",
    "    lookalike_records.append([cust_id, str([{rec[0]: rec[1]} for rec in recs])])\n",
    "\n",
    "lookalike_df = pd.DataFrame(lookalike_records, columns=['CustomerID', 'Recommendations'])\n",
    "lookalike_df.to_csv('Lookalike.csv', index=False)\n",
    "\n",
    "print(\"Lookalike.csv file has been created successfully with top 3 recommendations.\")\n",
    "\n",
    "# Display sample results\n",
    "print(lookalike_df.head(10))\n"
   ]
  },
  {
   "cell_type": "code",
   "execution_count": null,
   "id": "b3a8f975-03ee-4705-9411-6b53b963a664",
   "metadata": {},
   "outputs": [],
   "source": []
  },
  {
   "cell_type": "code",
   "execution_count": null,
   "id": "320ab7da-c28b-4550-9b4c-fc5b8d43a551",
   "metadata": {},
   "outputs": [],
   "source": []
  },
  {
   "cell_type": "code",
   "execution_count": null,
   "id": "2e4dac53-05dc-4aa4-9e0c-d00ab27cb0a9",
   "metadata": {},
   "outputs": [],
   "source": []
  },
  {
   "cell_type": "code",
   "execution_count": null,
   "id": "d21fbc0e-bde9-4e17-94c7-c8c7d38fe999",
   "metadata": {},
   "outputs": [],
   "source": []
  },
  {
   "cell_type": "code",
   "execution_count": null,
   "id": "96d537a8-e139-4c0a-9b79-b46fe5b5d21a",
   "metadata": {},
   "outputs": [],
   "source": []
  },
  {
   "cell_type": "code",
   "execution_count": null,
   "id": "db83ee7b-3680-485b-933e-235b70f1bbff",
   "metadata": {},
   "outputs": [],
   "source": []
  },
  {
   "cell_type": "code",
   "execution_count": null,
   "id": "0554c4e5-a758-447b-b3cb-29477bf3737f",
   "metadata": {},
   "outputs": [],
   "source": []
  },
  {
   "cell_type": "code",
   "execution_count": null,
   "id": "9660362f-5864-4352-b341-20f62e98cbde",
   "metadata": {},
   "outputs": [],
   "source": []
  }
 ],
 "metadata": {
  "kernelspec": {
   "display_name": "Python 3 (ipykernel)",
   "language": "python",
   "name": "python3"
  },
  "language_info": {
   "codemirror_mode": {
    "name": "ipython",
    "version": 3
   },
   "file_extension": ".py",
   "mimetype": "text/x-python",
   "name": "python",
   "nbconvert_exporter": "python",
   "pygments_lexer": "ipython3",
   "version": "3.12.7"
  }
 },
 "nbformat": 4,
 "nbformat_minor": 5
}
